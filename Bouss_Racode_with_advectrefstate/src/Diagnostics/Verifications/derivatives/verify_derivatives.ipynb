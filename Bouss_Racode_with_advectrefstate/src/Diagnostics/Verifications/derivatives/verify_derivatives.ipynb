{
 "cells": [
  {
   "cell_type": "markdown",
   "metadata": {},
   "source": [
    "Diagnostic Derivative Verification\n",
    "=====\n",
    "\n",
    "#### Nick Featherstone (Dec 14, 2018)\n",
    "\n",
    "This notebook provides a check on the derivatives in Rayleigh as computed *at diagnostic output time*.  Those calculations are, in many cases, handled differently than those conducted during normal time-integration.  The latter is best verified through benchmark analysis.   Note that this notebook does not provide an accuracy check.  Instead, it provides **visual verificiation** that the bookeeping of the code is working at output time.  The accuracy of the Rayleigh derivatives is spectral.  The accuracy of those provided by NumPy is second order; some differences are to be expected.   \n",
    "\n",
    "In the code that follows, the 8 fundamental fields computed within Rayleigh (**v**, T, P, **B**) along with their first and second derivatives (including cross derivatives) are read in from Rayleigh output.  These derivatives are then calculated independently using the code below, and the two results are compared.  To run this check, one Meridional_Slice, one Equatorial_Slice, and one Shell_Slice file are required.  I suggest using and/or modifying the example main_input file found in *input_examples/derivative_verification*.  It is set up to provide the necessary outputs.\n",
    "\n",
    "In each plot that follows, the NumPy-calculated derivatives are plotting with red circles, and the Rayleigh provided derivatives are plotted with blue lines.   Small errors (such as those due to misplaced factors of sin(theta)) may not be visible via this presentation.  Change the plots/analysis accordingly depending on what you are checking.  \n",
    "\n"
   ]
  },
  {
   "cell_type": "code",
   "execution_count": null,
   "metadata": {},
   "outputs": [],
   "source": [
    "from rayleigh_diagnostics import Meridional_Slices, Shell_Slices, Equatorial_Slices\n",
    "from matplotlib import pyplot as plt\n",
    "import numpy\n",
    "ms_file = '00100002'  # the Meridional_Slice file\n",
    "es_file = '00100002'  # the Equatorial_Slice file\n",
    "ss_file = '00100002'  # the Shell_Slice file\n",
    "rind = 30  # The r-index along which to examine theta-, phi-, r-theta-, and r-phi derivatives\n",
    "tind = 30  # The theta-index along which to examine r-, phi, r-theta, and theta-phi derivatives\n",
    "pind = 30  # The phi-index along which to examine r-, theta-, r-phi, and theta-phi derivatives\n",
    "\n",
    "# Quantity codes that correspond to **v**, T, P, and **B**, along with the (latexed) names as strings.\n",
    "vars = [1,2,3,501,502,801,802,803]\n",
    "names = ['vr', r'v$\\theta$', r'v$\\phi$', 'T', 'P', 'Br', r'B$\\theta$' , r'B$\\phi$' ]\n"
   ]
  },
  {
   "cell_type": "markdown",
   "metadata": {},
   "source": [
    "Before we begin, let's define a function for computing cross-derivatives (d^2/dxdy)"
   ]
  },
  {
   "cell_type": "code",
   "execution_count": null,
   "metadata": {},
   "outputs": [],
   "source": [
    "def deriv2d(arr,ax0,ax1):\n",
    "    '''Returns the cross (2nd) derivative of 2-D Numpy array arr, taken first along\n",
    "        axis 0 and then along axis 1.  \n",
    "        ax0:  gridpoints for axis 0\n",
    "        ax1:  gridpoints for axis 1\n",
    "        ans:  Return value (NumPy ndarray; float64 type)'''\n",
    "    shp = arr.shape\n",
    "    nx0 = shp[0]\n",
    "    nx1 = shp[1]\n",
    "    tmp = numpy.zeros((nx0,nx1),dtype='float64')\n",
    "    ans = numpy.zeros((nx0,nx1),dtype='float64')\n",
    "    for i in range(nx0):\n",
    "        tmp[i,:] = numpy.gradient(arr[i,:],ax1)\n",
    "    for i in range(nx1):\n",
    "        ans[:,i] = numpy.gradient(tmp[:,i],ax0)\n",
    "    return ans"
   ]
  },
  {
   "cell_type": "markdown",
   "metadata": {},
   "source": [
    "Radial-derivatives\n",
    "------\n",
    "First, we check derivatives in the r-direction using Meridional_Slices"
   ]
  },
  {
   "cell_type": "code",
   "execution_count": null,
   "metadata": {},
   "outputs": [],
   "source": [
    "ms = Meridional_Slices(ms_file)\n",
    "\n",
    "\n",
    "dvars = [10,11,12,507,508,810,811,812]  # first radial derivative Rayleigh code\n",
    "ddvars = [55,56,57,537, 538,855,856,857] # 2nd radial derivative Rayleigh code\n",
    "nvars = len(vars)\n",
    "radius = ms.radius\n",
    "\n",
    "sizetuple = (10,10)\n",
    "fig, ax = plt.subplots(nrows = nvars,ncols = 3, figsize=sizetuple)\n",
    "for i in range(nvars):\n",
    "    br = ms.vals[0,tind,:,ms.lut[vars[i]],0]\n",
    "    dbr = ms.vals[0,tind,:,ms.lut[dvars[i]],0]\n",
    "    ddbr = ms.vals[0,tind,:,ms.lut[ddvars[i]],0]\n",
    "    dbcheck = numpy.gradient(br,radius)\n",
    "    ddbc = numpy.gradient(dbr,radius)\n",
    "\n",
    "    ax[i][0].plot(radius,br)\n",
    "    ax[i][1].plot(radius,dbcheck,'ro')\n",
    "    ax[i][1].plot(radius,dbr)\n",
    "\n",
    "    ax[i][2].plot(radius,ddbc,'ro')\n",
    "    ax[i][2].plot(radius,ddbr)\n",
    "    if (i == 0):\n",
    "        ax[i][0].set_title('field')\n",
    "        ax[i][1].set_title(r'd/dr')\n",
    "        ax[i][2].set_title(r'd$^2$/dr$^2$')\n",
    "\n",
    "    ax[i][0].set_ylabel(names[i])\n",
    "plt.tight_layout()\n",
    "plt.show()"
   ]
  },
  {
   "cell_type": "markdown",
   "metadata": {},
   "source": [
    "Theta-derivatives\n",
    "-----\n",
    "Next, we check derivatives in the theta-direction using Meridional_Slices"
   ]
  },
  {
   "cell_type": "code",
   "execution_count": null,
   "metadata": {},
   "outputs": [],
   "source": [
    "\n",
    "dvars  = [19,20,21,  513, 514,  819,820,821]  # first derivative Rayleigh code\n",
    "ddvars = [64,65,66,  543, 544,  864,865,866]  # 2nd derivative Rayleigh code\n",
    "nvars = len(vars)\n",
    "theta = numpy.arccos(ms.costheta)\n",
    "\n",
    "\n",
    "sizetuple = (10,10)\n",
    "fig, ax = plt.subplots(nrows = nvars,ncols = 3, figsize=sizetuple)\n",
    "for i in range(nvars):\n",
    "    br = ms.vals[0,:,rind,ms.lut[vars[i]],0]\n",
    "    dbr = ms.vals[0,:,rind,ms.lut[dvars[i]],0]\n",
    "    ddbr = ms.vals[0,:,rind,ms.lut[ddvars[i]],0]\n",
    "    dbcheck = numpy.gradient(br,theta)\n",
    "    ddbc = numpy.gradient(dbr,theta)\n",
    "\n",
    "    ax[i][0].plot(theta,br)\n",
    "    ax[i][1].plot(theta,dbcheck,'ro')\n",
    "    ax[i][1].plot(theta,dbr)\n",
    "\n",
    "    ax[i][2].plot(theta,ddbc,'ro')\n",
    "    ax[i][2].plot(theta,ddbr)\n",
    "    if (i == 0):\n",
    "        ax[i][0].set_title('field')\n",
    "        ax[i][1].set_title(r'd/d$\\theta$')\n",
    "        ax[i][2].set_title(r'd$^2$/d$\\theta^2$')\n",
    "\n",
    "    ax[i][0].set_ylabel(names[i])\n",
    "plt.tight_layout()\n",
    "plt.show()\n"
   ]
  },
  {
   "cell_type": "markdown",
   "metadata": {},
   "source": [
    "Phi-Derivatives\n",
    "----\n",
    "We check phi-derivatives using Shell_Slice output."
   ]
  },
  {
   "cell_type": "code",
   "execution_count": null,
   "metadata": {},
   "outputs": [],
   "source": [
    "ss = Shell_Slices(ss_file)\n",
    "theta = numpy.arccos(ss.costheta)\n",
    "\n",
    "vals = ss.vals[:,:,0,:,0]\n",
    "\n",
    "nphi = ss.nphi\n",
    "ntheta = ss.ntheta\n",
    "phi = numpy.zeros(nphi,dtype='float64')\n",
    "dphi = 2.0*numpy.pi/nphi\n",
    "for i in range(nphi):\n",
    "    phi[i] = dphi*i\n"
   ]
  },
  {
   "cell_type": "code",
   "execution_count": null,
   "metadata": {},
   "outputs": [],
   "source": [
    "dvars  = [28,29,30,  519, 520,  828,829,830]\n",
    "ddvars = [73,74,75,  549, 550,  873,874,875]\n",
    "nvars = len(vars)\n",
    "\n",
    "\n",
    "sizetuple = (10,10)\n",
    "fig, ax = plt.subplots(nrows = nvars,ncols = 3, figsize=sizetuple)\n",
    "for i in range(nvars):\n",
    "    br   = vals[:, tind, ss.lut[vars[i]]]\n",
    "    dbr  = vals[:, tind, ss.lut[dvars[i]]]\n",
    "    ddbr = vals[:, tind, ss.lut[ddvars[i]]]\n",
    "    dbcheck = numpy.gradient(br,phi)\n",
    "    ddbc = numpy.gradient(dbr,phi)\n",
    "    #d2br = ms.vals[0,:,:,2,0]\n",
    "    #bslice = br[tind,:]\n",
    "    ax[i][0].plot(phi,br)\n",
    "    ax[i][1].plot(phi,dbcheck,'ro')\n",
    "    ax[i][1].plot(phi,dbr)\n",
    "\n",
    "    ax[i][2].plot(phi,ddbc,'ro')\n",
    "    ax[i][2].plot(phi,ddbr)\n",
    "    if (i == 0):\n",
    "        ax[i][0].set_title('field')\n",
    "        ax[i][1].set_title(r'd/d$\\phi$')\n",
    "        ax[i][2].set_title(r'd$^2$/d$\\phi^2$')\n",
    "\n",
    "    ax[i][0].set_ylabel(names[i])\n",
    "plt.tight_layout()\n",
    "plt.show()"
   ]
  },
  {
   "cell_type": "markdown",
   "metadata": {},
   "source": [
    "Phi-Theta Derivatives\n",
    "=======\n",
    "Check phi-theta derivatives using Shell_Slice output:"
   ]
  },
  {
   "cell_type": "code",
   "execution_count": null,
   "metadata": {},
   "outputs": [],
   "source": [
    "\n",
    "\n",
    "ddvars = [100,101,102,  567, 568,  900,901,902]\n",
    "nvars = len(vars)\n",
    "\n",
    "\n",
    "sizetuple = (10,10)\n",
    "fig, ax = plt.subplots(nrows = nvars,ncols = 2, figsize=sizetuple)\n",
    "\n",
    "for i in range(nvars):\n",
    "    b   = vals[:, :, ss.lut[vars[i]]]\n",
    "    dtp   = vals[:,:,ss.lut[ddvars[i]]]\n",
    "    dtpc = deriv2d(b,phi,theta)\n",
    "\n",
    "\n",
    "    dtc  = dtpc[ : , tind] \n",
    "    dpc  = dtpc[pind , :] \n",
    "\n",
    "    ax[i][0].plot(phi,dtc,'ro')\n",
    "    ax[i][0].plot(phi,dtp[:,tind])\n",
    "\n",
    "    ax[i][1].plot(theta,dpc,'ro')\n",
    "    ax[i][1].plot(theta,dtp[pind,:])\n",
    "\n",
    "    if (i == 0):\n",
    "        ax[i][0].set_title(' d2 by dr dtheta  (along phi)')\n",
    "        ax[i][1].set_title(' d2 by dr dtheta  (along theta)')\n",
    "\n",
    "\n",
    "    ax[i][0].set_ylabel(names[i])\n",
    "plt.tight_layout()\n",
    "plt.show()"
   ]
  },
  {
   "cell_type": "markdown",
   "metadata": {},
   "source": [
    "R-Theta Derivatives\n",
    "====\n",
    "Check the r-theta cross derivatives using Meridional_Slice output:"
   ]
  },
  {
   "cell_type": "code",
   "execution_count": null,
   "metadata": {},
   "outputs": [],
   "source": [
    "vals = ms.vals[0,:,:,:,0]\n",
    "theta = numpy.arccos(ms.costheta)\n",
    "radius = ms.radius\n",
    "\n",
    "ddvars = [82,83,84,  555, 556,  882,883,884]\n",
    "nvars = len(vars)\n",
    "\n",
    "\n",
    "sizetuple = (10,10)\n",
    "fig, ax = plt.subplots(nrows = nvars,ncols = 2, figsize=sizetuple)\n",
    "\n",
    "for i in range(nvars):\n",
    "\n",
    "    b   = vals[:, :, ms.lut[vars[i]]]\n",
    "    dtr   = vals[:,:,ms.lut[ddvars[i]]]\n",
    "    dtrc = deriv2d(b,theta,radius)\n",
    "\n",
    "\n",
    "    drc  = dtrc[ tind , :] \n",
    "    dtc  = dtrc[: , rind] \n",
    "\n",
    "\n",
    "    ax[i][0].plot(radius,drc,'ro')\n",
    "    ax[i][0].plot(radius,dtr[tind,:])\n",
    "\n",
    "    ax[i][1].plot(theta,dtc,'ro')\n",
    "    ax[i][1].plot(theta,dtr[:,rind])\n",
    "\n",
    "    if (i == 0):\n",
    "        ax[i][0].set_title(' d2 by dr dtheta  (along r)')\n",
    "        ax[i][1].set_title(' d2 by dr dtheta  (along theta)')\n",
    "\n",
    "\n",
    "    ax[i][0].set_ylabel(names[i])\n",
    "plt.tight_layout()\n",
    "plt.show()"
   ]
  },
  {
   "cell_type": "markdown",
   "metadata": {},
   "source": [
    "R-Phi Derivatives\n",
    "====\n",
    "Check r-phi derivatives using Equatorial_Slices.  Note that the symmetry about the equator for the Christensen et al. case means that some variables are zero in the equatorial plane, rendering this check moot for those variables.  As long as their other cross-derivatives look OK, and the r-phi derivatives for variables that are non-zero in the equatorial plane look OK, you should assume the derivatives are being computed accurately.  This is because the same routine is used to calculate cross-derivatives for each variable; if r-phi check passes for one value, it should pass for all."
   ]
  },
  {
   "cell_type": "code",
   "execution_count": null,
   "metadata": {},
   "outputs": [],
   "source": [
    "es = Equatorial_Slices('00100002')\n",
    "radius = es.radius\n",
    "phi = es.phi\n",
    "vals = es.vals[:,:,:,0]\n",
    "rvars  = [1 ,2 ,3,   501, 502,  801,802,803]\n",
    "ddvars = [91,92,93,  561, 562,  891,892,893]\n",
    "nvars = len(rvars)\n",
    "\n",
    "pind = 38\n",
    "rind = 22\n",
    "sizetuple = (10,10)\n",
    "fig, ax = plt.subplots(nrows = nvars,ncols = 2, figsize=sizetuple)\n",
    "\n",
    "for i in range(nvars):\n",
    "\n",
    "    b   = vals[:, :, es.lut[vars[i]]]\n",
    "    dpr   = vals[:,:,es.lut[ddvars[i]]]\n",
    "    dprc = deriv2d(b,phi,radius)\n",
    "\n",
    "\n",
    "    drc  = dprc[ pind , :] \n",
    "    dpc  = dprc[: , rind] \n",
    "\n",
    "\n",
    "    ax[i][0].plot(radius,drc,'ro')\n",
    "    ax[i][0].plot(radius,dpr[pind,:])\n",
    "\n",
    "    ax[i][1].plot(phi,dpc,'ro')\n",
    "    ax[i][1].plot(phi,dpr[:,rind])\n",
    "\n",
    "    if (i == 0):\n",
    "        ax[i][0].set_title(' d2 by dr dphi  (along r)')\n",
    "        ax[i][1].set_title(' d2 by dr dphi  (along phi)')\n",
    "\n",
    "\n",
    "    ax[i][0].set_ylabel(names[i])\n",
    "plt.tight_layout()\n",
    "plt.show()"
   ]
  },
  {
   "cell_type": "code",
   "execution_count": null,
   "metadata": {},
   "outputs": [],
   "source": []
  }
 ],
 "metadata": {
  "kernelspec": {
   "display_name": "Python 3",
   "language": "python",
   "name": "python3"
  },
  "language_info": {
   "codemirror_mode": {
    "name": "ipython",
    "version": 3
   },
   "file_extension": ".py",
   "mimetype": "text/x-python",
   "name": "python",
   "nbconvert_exporter": "python",
   "pygments_lexer": "ipython3",
   "version": "3.6.5"
  }
 },
 "nbformat": 4,
 "nbformat_minor": 2
}
